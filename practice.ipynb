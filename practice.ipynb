{
 "cells": [
  {
   "cell_type": "code",
   "execution_count": 129,
   "id": "19a7e94d-c461-4d34-baca-bc3aa5b2b2a8",
   "metadata": {},
   "outputs": [
    {
     "data": {
      "text/html": [
       "<div>\n",
       "<style scoped>\n",
       "    .dataframe tbody tr th:only-of-type {\n",
       "        vertical-align: middle;\n",
       "    }\n",
       "\n",
       "    .dataframe tbody tr th {\n",
       "        vertical-align: top;\n",
       "    }\n",
       "\n",
       "    .dataframe thead th {\n",
       "        text-align: right;\n",
       "    }\n",
       "</style>\n",
       "<table border=\"1\" class=\"dataframe\">\n",
       "  <thead>\n",
       "    <tr style=\"text-align: right;\">\n",
       "      <th></th>\n",
       "      <th>Div</th>\n",
       "      <th>Date</th>\n",
       "      <th>HomeTeam</th>\n",
       "      <th>AwayTeam</th>\n",
       "      <th>Full time home goals</th>\n",
       "      <th>Full time away goals</th>\n",
       "      <th>Full time result</th>\n",
       "      <th>Half time home goals</th>\n",
       "      <th>Half time away goals</th>\n",
       "      <th>Half time result</th>\n",
       "      <th>...</th>\n",
       "      <th>Betbrain average &gt;2.5</th>\n",
       "      <th>Betbrain max &lt;2.5</th>\n",
       "      <th>Betbrain average &lt;2.5</th>\n",
       "      <th>Betbrain Asian bookies</th>\n",
       "      <th>Betbrain Asian home handicap</th>\n",
       "      <th>Betbrain max Asian home odds</th>\n",
       "      <th>Betbrain average Asian home odds</th>\n",
       "      <th>Betbrain max Asian away odds</th>\n",
       "      <th>Betbrain average Asian away odds</th>\n",
       "      <th>cluster</th>\n",
       "    </tr>\n",
       "  </thead>\n",
       "  <tbody>\n",
       "    <tr>\n",
       "      <th>0</th>\n",
       "      <td>E0</td>\n",
       "      <td>13/08/05</td>\n",
       "      <td>Aston Villa</td>\n",
       "      <td>Bolton</td>\n",
       "      <td>2</td>\n",
       "      <td>2</td>\n",
       "      <td>D</td>\n",
       "      <td>2</td>\n",
       "      <td>2</td>\n",
       "      <td>D</td>\n",
       "      <td>...</td>\n",
       "      <td>2.01</td>\n",
       "      <td>1.87</td>\n",
       "      <td>1.70</td>\n",
       "      <td>22</td>\n",
       "      <td>-0.25</td>\n",
       "      <td>2.10</td>\n",
       "      <td>2.01</td>\n",
       "      <td>1.92</td>\n",
       "      <td>1.84</td>\n",
       "      <td>2</td>\n",
       "    </tr>\n",
       "    <tr>\n",
       "      <th>1</th>\n",
       "      <td>E0</td>\n",
       "      <td>13/08/05</td>\n",
       "      <td>Everton</td>\n",
       "      <td>Man United</td>\n",
       "      <td>0</td>\n",
       "      <td>2</td>\n",
       "      <td>A</td>\n",
       "      <td>0</td>\n",
       "      <td>1</td>\n",
       "      <td>A</td>\n",
       "      <td>...</td>\n",
       "      <td>1.93</td>\n",
       "      <td>1.87</td>\n",
       "      <td>1.79</td>\n",
       "      <td>23</td>\n",
       "      <td>0.75</td>\n",
       "      <td>2.05</td>\n",
       "      <td>2.00</td>\n",
       "      <td>1.93</td>\n",
       "      <td>1.86</td>\n",
       "      <td>4</td>\n",
       "    </tr>\n",
       "    <tr>\n",
       "      <th>2</th>\n",
       "      <td>E0</td>\n",
       "      <td>13/08/05</td>\n",
       "      <td>Fulham</td>\n",
       "      <td>Birmingham</td>\n",
       "      <td>0</td>\n",
       "      <td>0</td>\n",
       "      <td>D</td>\n",
       "      <td>0</td>\n",
       "      <td>0</td>\n",
       "      <td>D</td>\n",
       "      <td>...</td>\n",
       "      <td>2.04</td>\n",
       "      <td>1.77</td>\n",
       "      <td>1.69</td>\n",
       "      <td>21</td>\n",
       "      <td>0.00</td>\n",
       "      <td>1.85</td>\n",
       "      <td>1.81</td>\n",
       "      <td>2.11</td>\n",
       "      <td>2.05</td>\n",
       "      <td>0</td>\n",
       "    </tr>\n",
       "    <tr>\n",
       "      <th>3</th>\n",
       "      <td>E0</td>\n",
       "      <td>13/08/05</td>\n",
       "      <td>Man City</td>\n",
       "      <td>West Brom</td>\n",
       "      <td>0</td>\n",
       "      <td>0</td>\n",
       "      <td>D</td>\n",
       "      <td>0</td>\n",
       "      <td>0</td>\n",
       "      <td>D</td>\n",
       "      <td>...</td>\n",
       "      <td>1.94</td>\n",
       "      <td>1.90</td>\n",
       "      <td>1.77</td>\n",
       "      <td>23</td>\n",
       "      <td>-0.75</td>\n",
       "      <td>2.19</td>\n",
       "      <td>2.10</td>\n",
       "      <td>1.83</td>\n",
       "      <td>1.76</td>\n",
       "      <td>0</td>\n",
       "    </tr>\n",
       "    <tr>\n",
       "      <th>4</th>\n",
       "      <td>E0</td>\n",
       "      <td>13/08/05</td>\n",
       "      <td>Middlesboro</td>\n",
       "      <td>Liverpool</td>\n",
       "      <td>0</td>\n",
       "      <td>0</td>\n",
       "      <td>D</td>\n",
       "      <td>0</td>\n",
       "      <td>0</td>\n",
       "      <td>D</td>\n",
       "      <td>...</td>\n",
       "      <td>2.02</td>\n",
       "      <td>1.80</td>\n",
       "      <td>1.71</td>\n",
       "      <td>21</td>\n",
       "      <td>0.25</td>\n",
       "      <td>1.89</td>\n",
       "      <td>1.86</td>\n",
       "      <td>2.04</td>\n",
       "      <td>2.00</td>\n",
       "      <td>0</td>\n",
       "    </tr>\n",
       "    <tr>\n",
       "      <th>...</th>\n",
       "      <td>...</td>\n",
       "      <td>...</td>\n",
       "      <td>...</td>\n",
       "      <td>...</td>\n",
       "      <td>...</td>\n",
       "      <td>...</td>\n",
       "      <td>...</td>\n",
       "      <td>...</td>\n",
       "      <td>...</td>\n",
       "      <td>...</td>\n",
       "      <td>...</td>\n",
       "      <td>...</td>\n",
       "      <td>...</td>\n",
       "      <td>...</td>\n",
       "      <td>...</td>\n",
       "      <td>...</td>\n",
       "      <td>...</td>\n",
       "      <td>...</td>\n",
       "      <td>...</td>\n",
       "      <td>...</td>\n",
       "      <td>...</td>\n",
       "    </tr>\n",
       "    <tr>\n",
       "      <th>375</th>\n",
       "      <td>E0</td>\n",
       "      <td>07/05/06</td>\n",
       "      <td>Fulham</td>\n",
       "      <td>Middlesboro</td>\n",
       "      <td>1</td>\n",
       "      <td>0</td>\n",
       "      <td>H</td>\n",
       "      <td>0</td>\n",
       "      <td>0</td>\n",
       "      <td>D</td>\n",
       "      <td>...</td>\n",
       "      <td>2.00</td>\n",
       "      <td>1.80</td>\n",
       "      <td>1.74</td>\n",
       "      <td>20</td>\n",
       "      <td>-0.75</td>\n",
       "      <td>1.88</td>\n",
       "      <td>1.81</td>\n",
       "      <td>2.10</td>\n",
       "      <td>2.05</td>\n",
       "      <td>0</td>\n",
       "    </tr>\n",
       "    <tr>\n",
       "      <th>376</th>\n",
       "      <td>E0</td>\n",
       "      <td>07/05/06</td>\n",
       "      <td>Man United</td>\n",
       "      <td>Charlton</td>\n",
       "      <td>4</td>\n",
       "      <td>0</td>\n",
       "      <td>H</td>\n",
       "      <td>3</td>\n",
       "      <td>0</td>\n",
       "      <td>H</td>\n",
       "      <td>...</td>\n",
       "      <td>1.67</td>\n",
       "      <td>2.20</td>\n",
       "      <td>2.08</td>\n",
       "      <td>20</td>\n",
       "      <td>-1.75</td>\n",
       "      <td>1.93</td>\n",
       "      <td>1.90</td>\n",
       "      <td>2.04</td>\n",
       "      <td>1.96</td>\n",
       "      <td>5</td>\n",
       "    </tr>\n",
       "    <tr>\n",
       "      <th>377</th>\n",
       "      <td>E0</td>\n",
       "      <td>07/05/06</td>\n",
       "      <td>Newcastle</td>\n",
       "      <td>Chelsea</td>\n",
       "      <td>1</td>\n",
       "      <td>0</td>\n",
       "      <td>H</td>\n",
       "      <td>0</td>\n",
       "      <td>0</td>\n",
       "      <td>D</td>\n",
       "      <td>...</td>\n",
       "      <td>2.08</td>\n",
       "      <td>1.70</td>\n",
       "      <td>1.67</td>\n",
       "      <td>20</td>\n",
       "      <td>0.00</td>\n",
       "      <td>2.15</td>\n",
       "      <td>2.09</td>\n",
       "      <td>1.83</td>\n",
       "      <td>1.76</td>\n",
       "      <td>0</td>\n",
       "    </tr>\n",
       "    <tr>\n",
       "      <th>378</th>\n",
       "      <td>E0</td>\n",
       "      <td>07/05/06</td>\n",
       "      <td>Portsmouth</td>\n",
       "      <td>Liverpool</td>\n",
       "      <td>1</td>\n",
       "      <td>3</td>\n",
       "      <td>A</td>\n",
       "      <td>0</td>\n",
       "      <td>0</td>\n",
       "      <td>D</td>\n",
       "      <td>...</td>\n",
       "      <td>1.96</td>\n",
       "      <td>1.85</td>\n",
       "      <td>1.76</td>\n",
       "      <td>20</td>\n",
       "      <td>0.75</td>\n",
       "      <td>2.19</td>\n",
       "      <td>2.12</td>\n",
       "      <td>1.83</td>\n",
       "      <td>1.76</td>\n",
       "      <td>1</td>\n",
       "    </tr>\n",
       "    <tr>\n",
       "      <th>379</th>\n",
       "      <td>E0</td>\n",
       "      <td>07/05/06</td>\n",
       "      <td>West Ham</td>\n",
       "      <td>Tottenham</td>\n",
       "      <td>2</td>\n",
       "      <td>1</td>\n",
       "      <td>H</td>\n",
       "      <td>1</td>\n",
       "      <td>1</td>\n",
       "      <td>D</td>\n",
       "      <td>...</td>\n",
       "      <td>2.04</td>\n",
       "      <td>1.80</td>\n",
       "      <td>1.71</td>\n",
       "      <td>19</td>\n",
       "      <td>0.75</td>\n",
       "      <td>2.00</td>\n",
       "      <td>1.91</td>\n",
       "      <td>2.00</td>\n",
       "      <td>1.96</td>\n",
       "      <td>3</td>\n",
       "    </tr>\n",
       "  </tbody>\n",
       "</table>\n",
       "<p>380 rows × 69 columns</p>\n",
       "</div>"
      ],
      "text/plain": [
       "    Div      Date     HomeTeam     AwayTeam  Full time home goals  \\\n",
       "0    E0  13/08/05  Aston Villa       Bolton                     2   \n",
       "1    E0  13/08/05      Everton   Man United                     0   \n",
       "2    E0  13/08/05       Fulham   Birmingham                     0   \n",
       "3    E0  13/08/05     Man City    West Brom                     0   \n",
       "4    E0  13/08/05  Middlesboro    Liverpool                     0   \n",
       "..   ..       ...          ...          ...                   ...   \n",
       "375  E0  07/05/06       Fulham  Middlesboro                     1   \n",
       "376  E0  07/05/06   Man United     Charlton                     4   \n",
       "377  E0  07/05/06    Newcastle      Chelsea                     1   \n",
       "378  E0  07/05/06   Portsmouth    Liverpool                     1   \n",
       "379  E0  07/05/06     West Ham    Tottenham                     2   \n",
       "\n",
       "     Full time away goals Full time result  Half time home goals  \\\n",
       "0                       2                D                     2   \n",
       "1                       2                A                     0   \n",
       "2                       0                D                     0   \n",
       "3                       0                D                     0   \n",
       "4                       0                D                     0   \n",
       "..                    ...              ...                   ...   \n",
       "375                     0                H                     0   \n",
       "376                     0                H                     3   \n",
       "377                     0                H                     0   \n",
       "378                     3                A                     0   \n",
       "379                     1                H                     1   \n",
       "\n",
       "     Half time away goals Half time result  ... Betbrain average >2.5  \\\n",
       "0                       2                D  ...                  2.01   \n",
       "1                       1                A  ...                  1.93   \n",
       "2                       0                D  ...                  2.04   \n",
       "3                       0                D  ...                  1.94   \n",
       "4                       0                D  ...                  2.02   \n",
       "..                    ...              ...  ...                   ...   \n",
       "375                     0                D  ...                  2.00   \n",
       "376                     0                H  ...                  1.67   \n",
       "377                     0                D  ...                  2.08   \n",
       "378                     0                D  ...                  1.96   \n",
       "379                     1                D  ...                  2.04   \n",
       "\n",
       "     Betbrain max <2.5  Betbrain average <2.5  Betbrain Asian bookies  \\\n",
       "0                 1.87                   1.70                      22   \n",
       "1                 1.87                   1.79                      23   \n",
       "2                 1.77                   1.69                      21   \n",
       "3                 1.90                   1.77                      23   \n",
       "4                 1.80                   1.71                      21   \n",
       "..                 ...                    ...                     ...   \n",
       "375               1.80                   1.74                      20   \n",
       "376               2.20                   2.08                      20   \n",
       "377               1.70                   1.67                      20   \n",
       "378               1.85                   1.76                      20   \n",
       "379               1.80                   1.71                      19   \n",
       "\n",
       "     Betbrain Asian home handicap  Betbrain max Asian home odds  \\\n",
       "0                           -0.25                          2.10   \n",
       "1                            0.75                          2.05   \n",
       "2                            0.00                          1.85   \n",
       "3                           -0.75                          2.19   \n",
       "4                            0.25                          1.89   \n",
       "..                            ...                           ...   \n",
       "375                         -0.75                          1.88   \n",
       "376                         -1.75                          1.93   \n",
       "377                          0.00                          2.15   \n",
       "378                          0.75                          2.19   \n",
       "379                          0.75                          2.00   \n",
       "\n",
       "     Betbrain average Asian home odds  Betbrain max Asian away odds  \\\n",
       "0                                2.01                          1.92   \n",
       "1                                2.00                          1.93   \n",
       "2                                1.81                          2.11   \n",
       "3                                2.10                          1.83   \n",
       "4                                1.86                          2.04   \n",
       "..                                ...                           ...   \n",
       "375                              1.81                          2.10   \n",
       "376                              1.90                          2.04   \n",
       "377                              2.09                          1.83   \n",
       "378                              2.12                          1.83   \n",
       "379                              1.91                          2.00   \n",
       "\n",
       "     Betbrain average Asian away odds  cluster  \n",
       "0                                1.84        2  \n",
       "1                                1.86        4  \n",
       "2                                2.05        0  \n",
       "3                                1.76        0  \n",
       "4                                2.00        0  \n",
       "..                                ...      ...  \n",
       "375                              2.05        0  \n",
       "376                              1.96        5  \n",
       "377                              1.76        0  \n",
       "378                              1.76        1  \n",
       "379                              1.96        3  \n",
       "\n",
       "[380 rows x 69 columns]"
      ]
     },
     "execution_count": 129,
     "metadata": {},
     "output_type": "execute_result"
    }
   ],
   "source": [
    "from sklearn.cluster import KMeans\n",
    "import pandas as pd\n",
    "\n",
    "# загрузка данных о матчах\n",
    "matches_data = pd.read_csv('example.csv')\n",
    "\n",
    "# выбор столбцов, содержащих результаты и статистику матчей\n",
    "X = matches_data[['Full time home goals', 'Full time away goals']]\n",
    "\n",
    "# создание модели KMeans с 6 кластерами\n",
    "kmeans = KMeans(n_clusters=6)\n",
    "\n",
    "# применение модели к данным\n",
    "kmeans.fit(X)\n",
    "\n",
    "# получение меток кластеров для каждого матча\n",
    "labels = kmeans.predict(X)\n",
    "\n",
    "# добавление меток кластеров в исходные данные\n",
    "matches_data['cluster'] = labels\n",
    "\n",
    "# вывод результатов\n",
    "matches_data"
   ]
  },
  {
   "cell_type": "code",
   "execution_count": 182,
   "id": "872211bc-1317-4b63-8a1d-6c446b19d53d",
   "metadata": {},
   "outputs": [],
   "source": [
    "c = [0, 0, 0, 0, 0, 0]"
   ]
  },
  {
   "cell_type": "code",
   "execution_count": 183,
   "id": "ffd00978-812f-46c3-8f86-6613ea34a9aa",
   "metadata": {},
   "outputs": [],
   "source": [
    "for i in range(len(matches_data['cluster'])):\n",
    "    for k in range(6):\n",
    "        if matches_data['cluster'][i] == k:\n",
    "            c[k] += 1\n",
    "            break"
   ]
  },
  {
   "cell_type": "code",
   "execution_count": 184,
   "id": "16118b2d-0459-4529-88e6-7bdefd1a0479",
   "metadata": {},
   "outputs": [
    {
     "data": {
      "text/plain": [
       "[118, 27, 44, 85, 84, 22]"
      ]
     },
     "execution_count": 184,
     "metadata": {},
     "output_type": "execute_result"
    }
   ],
   "source": [
    "c"
   ]
  },
  {
   "cell_type": "code",
   "execution_count": 185,
   "id": "f3b83cac-c877-4e89-b866-d66200777af7",
   "metadata": {},
   "outputs": [],
   "source": [
    "h = [0, 0, 0, 0, 0, 0]"
   ]
  },
  {
   "cell_type": "code",
   "execution_count": 186,
   "id": "43aebb28-a5d5-4464-87f5-8bb2fe16258c",
   "metadata": {},
   "outputs": [],
   "source": [
    "for i in range(len(matches_data['Full time home goals'])):\n",
    "    for k in range(6):\n",
    "        if matches_data['cluster'][i] == k:\n",
    "            if matches_data['Full time home goals'][i] > 1.5:\n",
    "                h[k] += 1"
   ]
  },
  {
   "cell_type": "code",
   "execution_count": 187,
   "id": "e7417018-039e-4385-9d9a-dec1cc63b998",
   "metadata": {
    "tags": []
   },
   "outputs": [
    {
     "data": {
      "text/plain": [
       "[0, 10, 44, 85, 0, 22]"
      ]
     },
     "execution_count": 187,
     "metadata": {},
     "output_type": "execute_result"
    }
   ],
   "source": [
    "h"
   ]
  },
  {
   "cell_type": "code",
   "execution_count": 188,
   "id": "2ef019d1-952c-486a-be89-b03b1cada48f",
   "metadata": {},
   "outputs": [],
   "source": [
    "res_h = []\n",
    "\n",
    "for i in range(len(h)):\n",
    "    res_h.append(h[i] / c[i])"
   ]
  },
  {
   "cell_type": "code",
   "execution_count": 189,
   "id": "8f6015b2-52b7-4401-8052-57f4c797ad47",
   "metadata": {},
   "outputs": [
    {
     "data": {
      "text/plain": [
       "[0.0, 0.37037037037037035, 1.0, 1.0, 0.0, 1.0]"
      ]
     },
     "execution_count": 189,
     "metadata": {},
     "output_type": "execute_result"
    }
   ],
   "source": [
    "res_h"
   ]
  },
  {
   "cell_type": "code",
   "execution_count": 201,
   "id": "e20a3ec6-d733-4db8-a476-af76c13c5d3a",
   "metadata": {},
   "outputs": [],
   "source": [
    "aw = [0, 0, 0, 0, 0, 0]"
   ]
  },
  {
   "cell_type": "code",
   "execution_count": 202,
   "id": "1d4ff999-ae3f-4a4e-bc3c-b01e5c0a4cf7",
   "metadata": {},
   "outputs": [],
   "source": [
    "for i in range(len(matches_data['Full time away goals'])):\n",
    "    for k in range(6):\n",
    "        if matches_data['cluster'][i] == k:\n",
    "            if matches_data['Full time away goals'][i] > 1.5:\n",
    "                aw[k] += 1"
   ]
  },
  {
   "cell_type": "code",
   "execution_count": 203,
   "id": "b09c22c4-692c-43a0-ad71-e0d3cd2ae102",
   "metadata": {},
   "outputs": [
    {
     "data": {
      "text/plain": [
       "[0, 27, 28, 0, 56, 0]"
      ]
     },
     "execution_count": 203,
     "metadata": {},
     "output_type": "execute_result"
    }
   ],
   "source": [
    "aw"
   ]
  },
  {
   "cell_type": "code",
   "execution_count": 204,
   "id": "ffa34561-d71f-4368-a5dc-acf85031ffff",
   "metadata": {},
   "outputs": [],
   "source": [
    "res_aw = []\n",
    "\n",
    "for i in range(len(a)):\n",
    "    res_aw.append(aw[i] / c[i])"
   ]
  },
  {
   "cell_type": "code",
   "execution_count": 205,
   "id": "ef6a0684-5c35-404d-b1b2-ae548b29c70c",
   "metadata": {},
   "outputs": [
    {
     "data": {
      "text/plain": [
       "[0.0, 1.0, 0.6363636363636364, 0.0, 0.6666666666666666, 0.0]"
      ]
     },
     "execution_count": 205,
     "metadata": {},
     "output_type": "execute_result"
    }
   ],
   "source": [
    "res_aw"
   ]
  },
  {
   "cell_type": "code",
   "execution_count": null,
   "id": "89bf94de-6208-4a71-9fd4-cb94aeeb7a78",
   "metadata": {},
   "outputs": [],
   "source": []
  },
  {
   "cell_type": "code",
   "execution_count": 195,
   "id": "2266b79e-f09a-43c9-a484-6d524ee8293b",
   "metadata": {},
   "outputs": [],
   "source": [
    "tot = [0, 0, 0, 0, 0, 0]"
   ]
  },
  {
   "cell_type": "code",
   "execution_count": 196,
   "id": "9d6d6863-0007-48a8-b8bc-8837a01b9986",
   "metadata": {},
   "outputs": [],
   "source": [
    "for i in range(len(matches_data['Full time home goals'])):\n",
    "    for k in range(6):\n",
    "        if matches_data['cluster'][i] == k:\n",
    "            if matches_data['Full time home goals'][i] + matches_data['Full time away goals'][i] > 2.5:\n",
    "                tot[k] += 1"
   ]
  },
  {
   "cell_type": "code",
   "execution_count": 197,
   "id": "1a35f554-d7dd-4ade-a215-c15b6b758947",
   "metadata": {
    "tags": []
   },
   "outputs": [
    {
     "data": {
      "text/plain": [
       "[28, 26, 68, 15, 34, 0]"
      ]
     },
     "execution_count": 197,
     "metadata": {},
     "output_type": "execute_result"
    }
   ],
   "source": [
    "res"
   ]
  },
  {
   "cell_type": "code",
   "execution_count": 198,
   "id": "1f1c26b5-1450-48a2-a6f3-df8000e34db1",
   "metadata": {},
   "outputs": [
    {
     "data": {
      "text/plain": [
       "[118, 27, 44, 85, 84, 22]"
      ]
     },
     "execution_count": 198,
     "metadata": {},
     "output_type": "execute_result"
    }
   ],
   "source": [
    "c"
   ]
  },
  {
   "cell_type": "code",
   "execution_count": 199,
   "id": "e516dcdd-5612-42b9-be03-5fe0b05c64e6",
   "metadata": {},
   "outputs": [],
   "source": [
    "res_tot = []\n",
    "\n",
    "for i in range(len(h)):\n",
    "    res_tot.append(tot[i] / c[i])"
   ]
  },
  {
   "cell_type": "code",
   "execution_count": null,
   "id": "31be871c-d897-4ab9-bb41-1548ce70980c",
   "metadata": {},
   "outputs": [
    {
     "data": {
      "text/plain": [
       "[0.0, 1.0, 1.0, 0.5294117647058824, 0.39285714285714285, 1.0]"
      ]
     },
     "execution_count": 200,
     "metadata": {},
     "output_type": "execute_result"
    }
   ],
   "source": [
    "res_tot"
   ]
  }
 ],
 "metadata": {
  "kernelspec": {
   "display_name": "Python 3 (ipykernel)",
   "language": "python",
   "name": "python3"
  },
  "language_info": {
   "codemirror_mode": {
    "name": "ipython",
    "version": 3
   },
   "file_extension": ".py",
   "mimetype": "text/x-python",
   "name": "python",
   "nbconvert_exporter": "python",
   "pygments_lexer": "ipython3",
   "version": "3.9.7"
  }
 },
 "nbformat": 4,
 "nbformat_minor": 5
}
